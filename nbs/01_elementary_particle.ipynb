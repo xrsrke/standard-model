{
 "cells": [
  {
   "cell_type": "code",
   "execution_count": 24,
   "id": "3cccbec3-ebee-42ab-bef1-d293788a5b6a",
   "metadata": {},
   "outputs": [],
   "source": [
    "#| default_exp elementary_particle"
   ]
  },
  {
   "cell_type": "code",
   "execution_count": 25,
   "id": "28b1d948-6f1f-4299-b216-2707aee3c687",
   "metadata": {},
   "outputs": [],
   "source": [
    "#| hide\n",
    "from nbdev.showdoc import *"
   ]
  },
  {
   "cell_type": "code",
   "execution_count": 26,
   "id": "d8be68fd-8dd8-4186-87fa-00ed60a5a9e2",
   "metadata": {},
   "outputs": [],
   "source": [
    "#| hide\n",
    "import nbdev; nbdev.nbdev_export()"
   ]
  },
  {
   "cell_type": "markdown",
   "id": "b44d5b2b-fd86-43de-a4f8-0285603fb011",
   "metadata": {},
   "source": [
    "# Elementary Parcile\n",
    "\n",
    "> Matter at fundamental level, it's not made up of particle. But instead, it made up of field."
   ]
  },
  {
   "cell_type": "markdown",
   "id": "f8a70dd0-996f-459c-afbd-5c4e4bb38a51",
   "metadata": {},
   "source": [
    "But to understand the standar model, it's more convenience to use the language of particle."
   ]
  },
  {
   "cell_type": "markdown",
   "id": "73bc3121-98ea-4ecd-9271-4da19e31a1af",
   "metadata": {},
   "source": [
    "Fermions are matter particles.\n",
    "\n",
    "Bosons are force particles."
   ]
  },
  {
   "cell_type": "markdown",
   "id": "5b9e96f8-37cd-4b2f-b110-f45c2c75134e",
   "metadata": {},
   "source": [
    "##### Distinction between fermions and bosons"
   ]
  },
  {
   "cell_type": "markdown",
   "id": "c14d1ef4-9f38-4f2e-9098-e594a332d367",
   "metadata": {},
   "source": [
    "Lies in the quantum world. Particles that obey `Pauli Exclusion Principle`, they're Fermions. Otherwise, they're bosons."
   ]
  },
  {
   "cell_type": "markdown",
   "id": "1cf8b864-b24f-4d55-8938-c69460bf82eb",
   "metadata": {},
   "source": [
    "#### Everything can be reduced to just three matter particle (Fermions)\n",
    "- Electron\n",
    "- Up quark\n",
    "- Down quark\n",
    "- Electron neutrino\n",
    "\n",
    "Proton have: two up quarks and a down\n",
    "\n",
    "Neutron have: two down quarks and an up"
   ]
  },
  {
   "cell_type": "code",
   "execution_count": 17,
   "id": "17f61786-c637-4ccf-a03f-22ee14ea8cdf",
   "metadata": {},
   "outputs": [],
   "source": [
    "#| export\n",
    "class ElementaryParticle:\n",
    "    \n",
    "    # every particle is either a fermion or a boson \n",
    "    PARTICLE_CLASSIFICATION = (\"fermion\", \"boson\")\n",
    "    \n",
    "    def __init__(self):\n",
    "        pass"
   ]
  },
  {
   "cell_type": "code",
   "execution_count": null,
   "id": "dbe9b6fd-deab-4334-a2fc-9be111a96cd5",
   "metadata": {},
   "outputs": [],
   "source": []
  }
 ],
 "metadata": {
  "kernelspec": {
   "display_name": "Python 3 (ipykernel)",
   "language": "python",
   "name": "python3"
  },
  "language_info": {
   "codemirror_mode": {
    "name": "ipython",
    "version": 3
   },
   "file_extension": ".py",
   "mimetype": "text/x-python",
   "name": "python",
   "nbconvert_exporter": "python",
   "pygments_lexer": "ipython3",
   "version": "3.9.12"
  }
 },
 "nbformat": 4,
 "nbformat_minor": 5
}
