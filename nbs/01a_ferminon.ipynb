{
 "cells": [
  {
   "cell_type": "raw",
   "id": "14e7d779-bde7-4e64-b457-9fd502506a5b",
   "metadata": {},
   "source": [
    "#| default_exp ferminon"
   ]
  },
  {
   "cell_type": "code",
   "execution_count": 2,
   "id": "a4cd1b25-5894-46d3-93d6-50aa51f2b108",
   "metadata": {},
   "outputs": [],
   "source": [
    "#| hide\n",
    "from nbdev.showdoc import *"
   ]
  },
  {
   "cell_type": "code",
   "execution_count": 3,
   "id": "87e45581-6fa7-4371-a985-17b89a7da2c6",
   "metadata": {},
   "outputs": [],
   "source": [
    "#| hide\n",
    "import nbdev; nbdev.nbdev_export()"
   ]
  },
  {
   "cell_type": "code",
   "execution_count": 10,
   "id": "9aaebf87-e7c2-4c71-a103-68742c4852cb",
   "metadata": {},
   "outputs": [
    {
     "ename": "SyntaxError",
     "evalue": "invalid syntax (3061628471.py, line 2)",
     "output_type": "error",
     "traceback": [
      "\u001b[0;36m  Input \u001b[0;32mIn [10]\u001b[0;36m\u001b[0m\n\u001b[0;31m    from standard-model.elementary_particle import *\u001b[0m\n\u001b[0m                 ^\u001b[0m\n\u001b[0;31mSyntaxError\u001b[0m\u001b[0;31m:\u001b[0m invalid syntax\n"
     ]
    }
   ],
   "source": [
    "#| export\n",
    "from standard-model.elementary_particle import *"
   ]
  },
  {
   "cell_type": "code",
   "execution_count": null,
   "id": "327ec237-e632-40e7-8f90-bb85ec27ebab",
   "metadata": {},
   "outputs": [],
   "source": []
  }
 ],
 "metadata": {
  "kernelspec": {
   "display_name": "Python 3 (ipykernel)",
   "language": "python",
   "name": "python3"
  },
  "language_info": {
   "codemirror_mode": {
    "name": "ipython",
    "version": 3
   },
   "file_extension": ".py",
   "mimetype": "text/x-python",
   "name": "python",
   "nbconvert_exporter": "python",
   "pygments_lexer": "ipython3",
   "version": "3.9.12"
  }
 },
 "nbformat": 4,
 "nbformat_minor": 5
}
