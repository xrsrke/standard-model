{
 "cells": [
  {
   "cell_type": "code",
   "execution_count": 14,
   "id": "b2790c09-a3a5-43c3-bedc-490fdb516af1",
   "metadata": {},
   "outputs": [],
   "source": [
    "#| default_exp force"
   ]
  },
  {
   "cell_type": "code",
   "execution_count": 15,
   "id": "5c6867ad-48f8-4342-b5cb-b5cfff38b081",
   "metadata": {},
   "outputs": [],
   "source": [
    "#| hide\n",
    "from nbdev.showdoc import *"
   ]
  },
  {
   "cell_type": "code",
   "execution_count": 16,
   "id": "798dfb3f-4000-4e87-8eaf-61e6a162b85d",
   "metadata": {},
   "outputs": [],
   "source": [
    "#| hide\n",
    "import nbdev; nbdev.nbdev_export()"
   ]
  },
  {
   "cell_type": "markdown",
   "id": "baf50d47-a4a3-4c4c-9431-753e326c8343",
   "metadata": {},
   "source": [
    "# Force\n",
    "\n",
    "> Four fundamental forces of the universe"
   ]
  },
  {
   "cell_type": "code",
   "execution_count": 18,
   "id": "770fe1ba-21e4-4b85-98e0-e605f05b5dd1",
   "metadata": {},
   "outputs": [],
   "source": [
    "#| export\n",
    "class Force:\n",
    "    FORCE_CLASSIFICATION = (\"elelectromagnetic\", \"strong\", \"weak\", \"gravity\")\n",
    "    pass"
   ]
  },
  {
   "cell_type": "code",
   "execution_count": null,
   "id": "35fbb34a-281c-4ab0-a445-e676d46af0fb",
   "metadata": {},
   "outputs": [],
   "source": []
  },
  {
   "cell_type": "code",
   "execution_count": null,
   "id": "b97b347d-fc04-429b-bbe9-71ada3ed6b6b",
   "metadata": {},
   "outputs": [],
   "source": []
  }
 ],
 "metadata": {
  "kernelspec": {
   "display_name": "Python 3 (ipykernel)",
   "language": "python",
   "name": "python3"
  },
  "language_info": {
   "codemirror_mode": {
    "name": "ipython",
    "version": 3
   },
   "file_extension": ".py",
   "mimetype": "text/x-python",
   "name": "python",
   "nbconvert_exporter": "python",
   "pygments_lexer": "ipython3",
   "version": "3.9.12"
  }
 },
 "nbformat": 4,
 "nbformat_minor": 5
}
